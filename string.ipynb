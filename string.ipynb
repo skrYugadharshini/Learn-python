{
 "cells": [
  {
   "cell_type": "code",
   "execution_count": 35,
   "metadata": {},
   "outputs": [
    {
     "name": "stdout",
     "output_type": "stream",
     "text": [
      "happy birthdayhappy birthdayhappy birthdayhappy birthdayhappy birthdayhappy birthdayhappy birthdayhappy birthdayhappy birthdayhappy birthday\n",
      "14\n",
      "2\n",
      "2\n",
      "hrppy birthdry\n",
      "False\n",
      "False\n",
      "\"peace\"\n",
      "RAM\n",
      "ram\n",
      "Happy Birthday\n",
      "happy birthday Ram\n",
      "hello \t world\n"
     ]
    }
   ],
   "source": [
    "#methid, function- performs a specific task\n",
    "message = \"happy birthday\"\n",
    "print(message * 10 )\n",
    "print(message* 10)\n",
    "print(len(message))\n",
    "print(message.find(\"p\"))\n",
    "print(message.count(\"h\"))\n",
    "print(message.replace(\"a\" , \"r\"))\n",
    "print(message.isalpha())\n",
    "print(message.isdigit())\n",
    "name =\"Ram\"\n",
    "quote = '\"peace\"'\n",
    "print(quote)# yuga\n",
    "print(name.upper())# . invking a methed\n",
    "print(name. lower())\n",
    "print(message.title())\n",
    "print(message + \" \" + name)\n",
    "print (\"hello \\t world\")#escape sequnce3\n"
   ]
  },
  {
   "cell_type": "markdown",
   "metadata": {},
   "source": []
  }
 ],
 "metadata": {
  "kernelspec": {
   "display_name": "Python 3",
   "language": "python",
   "name": "python3"
  },
  "language_info": {
   "codemirror_mode": {
    "name": "ipython",
    "version": 3
   },
   "file_extension": ".py",
   "mimetype": "text/x-python",
   "name": "python",
   "nbconvert_exporter": "python",
   "pygments_lexer": "ipython3",
   "version": "3.12.1"
  }
 },
 "nbformat": 4,
 "nbformat_minor": 2
}
